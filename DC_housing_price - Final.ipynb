{
 "cells": [
  {
   "cell_type": "markdown",
   "metadata": {},
   "source": [
    "# 1. Data Aquisition  \n",
    "# 2. Data Preprocessing  \n",
    "# 3. Exploratory Data Analysis (EDA)   \n",
    "# 4. Feature Selection  / Feature Engineering (create new columns)  \n",
    "# 5. Model Selection (which one is the best?)  \n",
    "# 6. Model Validation  \n",
    "# 7. If test presents poor results, go back to step 3 and 4  \n"
   ]
  },
  {
   "cell_type": "code",
   "execution_count": 1320,
   "metadata": {},
   "outputs": [],
   "source": [
    "#### Import modules ###\n",
    "from sklearn import tree\n",
    "import pandas as pd\n",
    "import numpy as np\n",
    "import os\n",
    "import seaborn as sns\n",
    "from sklearn.model_selection import train_test_split\n",
    "from sklearn.linear_model import LinearRegression\n",
    "import waterfall_chart\n",
    "import matplotlib.pyplot as plt\n",
    "from sklearn.ensemble import RandomForestClassifier\n"
   ]
  },
  {
   "cell_type": "code",
   "execution_count": 1321,
   "metadata": {},
   "outputs": [
    {
     "name": "stdout",
     "output_type": "stream",
     "text": [
      "<class 'pandas.core.frame.DataFrame'>\n",
      "RangeIndex: 20031 entries, 0 to 20030\n",
      "Data columns (total 44 columns):\n",
      "BATHRM                20031 non-null int64\n",
      "HF_BATHRM             20031 non-null int64\n",
      "HEAT                  20031 non-null object\n",
      "AC                    20031 non-null object\n",
      "NUM_UNITS             20031 non-null int64\n",
      "ROOMS                 20031 non-null int64\n",
      "BEDRM                 20031 non-null int64\n",
      "STORIES               20031 non-null float64\n",
      "SALEDATE              20031 non-null object\n",
      "PRICE                 20031 non-null int64\n",
      "QUALIFIED             20031 non-null object\n",
      "SALE_NUM              20031 non-null int64\n",
      "GBA                   20031 non-null int64\n",
      "BLDG_NUM              20031 non-null int64\n",
      "STYLE                 20031 non-null object\n",
      "STRUCT                20031 non-null object\n",
      "GRADE                 20031 non-null object\n",
      "CNDTN                 20031 non-null object\n",
      "EXTWALL               20031 non-null object\n",
      "ROOF                  20031 non-null object\n",
      "INTWALL               20031 non-null object\n",
      "KITCHENS              20031 non-null int64\n",
      "FIREPLACES            20031 non-null int64\n",
      "USECODE               20031 non-null int64\n",
      "LANDAREA              20031 non-null int64\n",
      "SOURCE                20031 non-null object\n",
      "FULLADDRESS           19876 non-null object\n",
      "CITY                  19877 non-null object\n",
      "STATE                 19877 non-null object\n",
      "ZIPCODE               20031 non-null int64\n",
      "NATIONALGRID          19877 non-null object\n",
      "LATITUDE              20031 non-null float64\n",
      "LONGITUDE             20031 non-null float64\n",
      "ASSESSMENT_NBHD       20031 non-null object\n",
      "ASSESSMENT_SUBNBHD    17323 non-null object\n",
      "CENSUS_TRACT          20031 non-null int64\n",
      "CENSUS_BLOCK          19877 non-null object\n",
      "WARD                  20031 non-null object\n",
      "SQUARE                20031 non-null object\n",
      "QUADRANT              19993 non-null object\n",
      "SALEYEAR              20031 non-null int64\n",
      "ADJ_SALES_PRICE       20031 non-null float64\n",
      "TOT_ROOMS             20031 non-null int64\n",
      "ROOM_TO_LAND          20031 non-null float64\n",
      "dtypes: float64(5), int64(17), object(22)\n",
      "memory usage: 6.7+ MB\n"
     ]
    },
    {
     "name": "stderr",
     "output_type": "stream",
     "text": [
      "/Library/Frameworks/Python.framework/Versions/3.7/lib/python3.7/site-packages/IPython/core/interactiveshell.py:3020: DtypeWarning: Columns (38) have mixed types. Specify dtype option on import or set low_memory=False.\n",
      "  interactivity=interactivity, compiler=compiler, result=result)\n"
     ]
    }
   ],
   "source": [
    "### Create dataframe using CSV ###\n",
    "\n",
    "df = pd.read_csv(os.path.join(\"..\",\"Resources\", \"last_five_years.csv\"))\n",
    "#df.head()\n",
    "df.info()"
   ]
  },
  {
   "cell_type": "code",
   "execution_count": 1322,
   "metadata": {},
   "outputs": [
    {
     "data": {
      "text/plain": [
       "5"
      ]
     },
     "execution_count": 1322,
     "metadata": {},
     "output_type": "execute_result"
    }
   ],
   "source": [
    "###Counting the number of years to check data ####\n",
    "\n",
    "# df = df[df.SALEYEAR != 2018]\n",
    "# df = df[df.SALEYEAR != 2014]\n",
    "\n",
    "df[\"SALEYEAR\"].nunique()"
   ]
  },
  {
   "cell_type": "code",
   "execution_count": 1323,
   "metadata": {},
   "outputs": [
    {
     "data": {
      "text/plain": [
       "(17967, 44)"
      ]
     },
     "execution_count": 1323,
     "metadata": {},
     "output_type": "execute_result"
    }
   ],
   "source": [
    "## Show correlations between variables within the dataframe ##\n",
    "\n",
    "df.corr()\n",
    "df1 = df\n",
    "\n",
    "df1 = df1[df1.ADJ_SALES_PRICE < 1600000]\n",
    "df1 = df1[df1.ADJ_SALES_PRICE > 175000]\n",
    "df1.shape"
   ]
  },
  {
   "cell_type": "code",
   "execution_count": 1324,
   "metadata": {},
   "outputs": [],
   "source": [
    "# Drop ADJ_SALES_PRICE because it represents our dependent variable Y and drop other columns that don't improve the model #\n",
    "\n",
    "X = df1.drop(columns=[\"PRICE\", #is my Y\n",
    "                      \"CENSUS_TRACT\", #makes model worse\n",
    "                      \"SALEDATE\",\n",
    "                      \"SOURCE\", #they are all the same value 'Residential'\n",
    "                      \"FULLADDRESS\",\n",
    "                      \"CITY\", #is all in DC\n",
    "                      \"STATE\", #is all in the same state\n",
    "                      \"NATIONALGRID\", #uniquie id to each house\n",
    "                      \"ASSESSMENT_SUBNBHD\", #there are 121, mayby too many, worth re-running the model with it\n",
    "                      \"CENSUS_BLOCK\", #there are 2K\n",
    "                      \"SQUARE\", #there are 3K\n",
    "                      'SALE_NUM',\n",
    "                      'WARD',\n",
    "                      \"QUADRANT\", # there are only 'NW', 'SW', 'SE', 'NE', nan, maybe work using it but with Zipcode it seems redundant\n",
    "                      \"QUALIFIED\",\n",
    "                      #these ones were removed after looking at the 'feature importance' in the Random Forrest\n",
    "                       \"STYLE\",\n",
    "                      \"ROOF\",\n",
    "                      \"HEAT\",\n",
    "                      \"EXTWALL\",\n",
    "                      \"ASSESSMENT_NBHD\",\n",
    "                      \"ADJ_SALES_PRICE\",\n",
    "                      \"ROOMS\",\n",
    "                      \"LANDAREA\",\n",
    "                      \"BLDG_NUM\",\n",
    "                      \"NUM_UNITS\",\n",
    "                      \"SALEYEAR\",\n",
    "                      \"STORIES\"\n",
    "                      \n",
    "                    \n",
    "                     ])\n",
    "\n",
    "#set price to be y\n",
    "# y = df1[\"PRICE\"]\n",
    "y = df1[\"ADJ_SALES_PRICE\"]"
   ]
  },
  {
   "cell_type": "code",
   "execution_count": 1325,
   "metadata": {},
   "outputs": [],
   "source": [
    "# Replace 'No Data' and 'Deafult' with numpy 'nan'\n",
    "df1 = df1.replace('No Data',np.nan)\n",
    "df1 = df1.replace('Default',np.nan)\n"
   ]
  },
  {
   "cell_type": "code",
   "execution_count": 1326,
   "metadata": {},
   "outputs": [
    {
     "data": {
      "text/plain": [
       "Index(['BATHRM', 'HF_BATHRM', 'AC', 'BEDRM', 'GBA', 'STRUCT', 'GRADE', 'CNDTN',\n",
       "       'INTWALL', 'KITCHENS', 'FIREPLACES', 'USECODE', 'ZIPCODE', 'LATITUDE',\n",
       "       'LONGITUDE', 'TOT_ROOMS', 'ROOM_TO_LAND'],\n",
       "      dtype='object')"
      ]
     },
     "execution_count": 1326,
     "metadata": {},
     "output_type": "execute_result"
    }
   ],
   "source": [
    "## Show independent variables (X axis) ##\n",
    "\n",
    "X.head()\n",
    "X.columns"
   ]
  },
  {
   "cell_type": "code",
   "execution_count": 1327,
   "metadata": {},
   "outputs": [
    {
     "name": "stdout",
     "output_type": "stream",
     "text": [
      "<class 'pandas.core.frame.DataFrame'>\n",
      "Int64Index: 17967 entries, 1 to 20029\n",
      "Data columns (total 44 columns):\n",
      "BATHRM                17967 non-null int64\n",
      "HF_BATHRM             17967 non-null int64\n",
      "HEAT                  17960 non-null object\n",
      "AC                    17967 non-null object\n",
      "NUM_UNITS             17967 non-null int64\n",
      "ROOMS                 17967 non-null int64\n",
      "BEDRM                 17967 non-null int64\n",
      "STORIES               17967 non-null float64\n",
      "SALEDATE              17967 non-null object\n",
      "PRICE                 17967 non-null int64\n",
      "QUALIFIED             17967 non-null object\n",
      "SALE_NUM              17967 non-null int64\n",
      "GBA                   17967 non-null int64\n",
      "BLDG_NUM              17967 non-null int64\n",
      "STYLE                 17956 non-null object\n",
      "STRUCT                17966 non-null object\n",
      "GRADE                 17967 non-null object\n",
      "CNDTN                 17966 non-null object\n",
      "EXTWALL               17966 non-null object\n",
      "ROOF                  17967 non-null object\n",
      "INTWALL               17957 non-null object\n",
      "KITCHENS              17967 non-null int64\n",
      "FIREPLACES            17967 non-null int64\n",
      "USECODE               17967 non-null int64\n",
      "LANDAREA              17967 non-null int64\n",
      "SOURCE                17967 non-null object\n",
      "FULLADDRESS           17827 non-null object\n",
      "CITY                  17827 non-null object\n",
      "STATE                 17827 non-null object\n",
      "ZIPCODE               17967 non-null object\n",
      "NATIONALGRID          17827 non-null object\n",
      "LATITUDE              17967 non-null float64\n",
      "LONGITUDE             17967 non-null float64\n",
      "ASSESSMENT_NBHD       17967 non-null object\n",
      "ASSESSMENT_SUBNBHD    15591 non-null object\n",
      "CENSUS_TRACT          17967 non-null int64\n",
      "CENSUS_BLOCK          17827 non-null object\n",
      "WARD                  17967 non-null object\n",
      "SQUARE                17967 non-null object\n",
      "QUADRANT              17931 non-null object\n",
      "SALEYEAR              17967 non-null int64\n",
      "ADJ_SALES_PRICE       17967 non-null float64\n",
      "TOT_ROOMS             17967 non-null int64\n",
      "ROOM_TO_LAND          17967 non-null float64\n",
      "dtypes: float64(5), int64(16), object(23)\n",
      "memory usage: 6.2+ MB\n"
     ]
    }
   ],
   "source": [
    "# ZIPCODE is categorical but because it is made of numbers before using dummies function need to convert to string type\n",
    "df1['ZIPCODE'] = df1['ZIPCODE'].astype(str)\n",
    "df1.info()"
   ]
  },
  {
   "cell_type": "code",
   "execution_count": 1328,
   "metadata": {},
   "outputs": [],
   "source": [
    "# handling categorical variables\n",
    "# use pd.get_dummies\n",
    "\n",
    "X = pd.get_dummies(X)\n"
   ]
  },
  {
   "cell_type": "code",
   "execution_count": 1329,
   "metadata": {},
   "outputs": [
    {
     "data": {
      "text/plain": [
       "array(['NW', 'SW', 'SE', 'NE', nan], dtype=object)"
      ]
     },
     "execution_count": 1329,
     "metadata": {},
     "output_type": "execute_result"
    }
   ],
   "source": [
    "# use unique() to see what type of value in each column, then drop the column if not needed\n",
    "df1[\"QUADRANT\"].unique()"
   ]
  },
  {
   "cell_type": "code",
   "execution_count": 1330,
   "metadata": {},
   "outputs": [
    {
     "data": {
      "text/plain": [
       "4"
      ]
     },
     "execution_count": 1330,
     "metadata": {},
     "output_type": "execute_result"
    }
   ],
   "source": [
    "# use nunique() to count the number of uniquie categories. E.g. 3K cathegories make a column useless in a 20K dataset\n",
    "df1[\"QUADRANT\"].nunique()"
   ]
  },
  {
   "cell_type": "code",
   "execution_count": 1331,
   "metadata": {},
   "outputs": [],
   "source": [
    "# Generate model\n",
    "X_train, X_test, y_train, y_test = train_test_split(X, y, test_size = 0.20, random_state = 42)"
   ]
  },
  {
   "cell_type": "code",
   "execution_count": 1332,
   "metadata": {},
   "outputs": [
    {
     "data": {
      "text/plain": [
       "<matplotlib.axes._subplots.AxesSubplot at 0x1145fa908>"
      ]
     },
     "execution_count": 1332,
     "metadata": {},
     "output_type": "execute_result"
    },
    {
     "data": {
      "image/png": "[encoded data removed]",
      "text/plain": [
       "<Figure size 432x288 with 2 Axes>"
      ]
     },
     "metadata": {
      "needs_background": "light"
     },
     "output_type": "display_data"
    }
   ],
   "source": [
    "## Show heatmap of correlations between variables ##\n",
    "sns.heatmap(df1.corr())"
   ]
  },
  {
   "cell_type": "code",
   "execution_count": 1333,
   "metadata": {},
   "outputs": [
    {
     "data": {
      "text/plain": [
       "0.20003339455668726"
      ]
     },
     "execution_count": 1333,
     "metadata": {},
     "output_type": "execute_result"
    }
   ],
   "source": [
    "# Check that we are using 20% of the dataset for testing\n",
    "len(X_test)/len(X)"
   ]
  },
  {
   "cell_type": "code",
   "execution_count": 1334,
   "metadata": {},
   "outputs": [],
   "source": [
    "## Import Random Forest module ##\n",
    "\n",
    "from sklearn.ensemble import RandomForestRegressor"
   ]
  },
  {
   "cell_type": "code",
   "execution_count": 1335,
   "metadata": {},
   "outputs": [],
   "source": [
    "# Initialize the model\n",
    "model = LinearRegression()\n",
    "#rf_model = RandomForestRegressor() #runs with default value\n",
    "rf_model = RandomForestRegressor(max_depth= 35) #https://scikit-learn.org/stable/modules/grid_search.html\n"
   ]
  },
  {
   "cell_type": "code",
   "execution_count": 1336,
   "metadata": {},
   "outputs": [
    {
     "data": {
      "text/plain": [
       "LinearRegression(copy_X=True, fit_intercept=True, n_jobs=None,\n",
       "         normalize=False)"
      ]
     },
     "execution_count": 1336,
     "metadata": {},
     "output_type": "execute_result"
    }
   ],
   "source": [
    "# Train the model\n",
    "model.fit(X_train, y_train)"
   ]
  },
  {
   "cell_type": "code",
   "execution_count": 1337,
   "metadata": {},
   "outputs": [
    {
     "name": "stderr",
     "output_type": "stream",
     "text": [
      "/Library/Frameworks/Python.framework/Versions/3.7/lib/python3.7/site-packages/sklearn/ensemble/forest.py:246: FutureWarning: The default value of n_estimators will change from 10 in version 0.20 to 100 in 0.22.\n",
      "  \"10 in version 0.20 to 100 in 0.22.\", FutureWarning)\n"
     ]
    },
    {
     "data": {
      "text/plain": [
       "RandomForestRegressor(bootstrap=True, criterion='mse', max_depth=35,\n",
       "           max_features='auto', max_leaf_nodes=None,\n",
       "           min_impurity_decrease=0.0, min_impurity_split=None,\n",
       "           min_samples_leaf=1, min_samples_split=2,\n",
       "           min_weight_fraction_leaf=0.0, n_estimators=10, n_jobs=None,\n",
       "           oob_score=False, random_state=None, verbose=0, warm_start=False)"
      ]
     },
     "execution_count": 1337,
     "metadata": {},
     "output_type": "execute_result"
    }
   ],
   "source": [
    "## Fit training data into model\n",
    "\n",
    "rf_model.fit(X_train, y_train)"
   ]
  },
  {
   "cell_type": "code",
   "execution_count": 1338,
   "metadata": {},
   "outputs": [],
   "source": [
    "# Make predictions\n",
    "\n",
    "# Linear regression\n",
    "y_train_pred = model.predict(X_train)\n",
    "y_test_pred = model.predict(X_test)\n",
    "\n",
    "# Forrest Tree\n",
    "y_train_pred_rf = rf_model.predict(X_train)\n",
    "y_test_pred_rf = rf_model.predict(X_test)"
   ]
  },
  {
   "cell_type": "code",
   "execution_count": 1339,
   "metadata": {},
   "outputs": [],
   "source": [
    "# Model evaluation\n",
    "from sklearn.metrics import r2_score, mean_squared_error"
   ]
  },
  {
   "cell_type": "code",
   "execution_count": 1340,
   "metadata": {},
   "outputs": [
    {
     "name": "stdout",
     "output_type": "stream",
     "text": [
      "The r-squared for training is:  0.7549586259649217\n",
      "The r-squared for testing is:  0.7648320686148729\n"
     ]
    }
   ],
   "source": [
    "## Print training & test scores for linear regression ##\n",
    "print('The r-squared for training is: ', r2_score(y_train, y_train_pred))\n",
    "print('The r-squared for testing is: ', r2_score(y_test, y_test_pred))"
   ]
  },
  {
   "cell_type": "code",
   "execution_count": 1341,
   "metadata": {},
   "outputs": [
    {
     "name": "stdout",
     "output_type": "stream",
     "text": [
      "The r-squared for training is:  0.9703559921015315\n",
      "The r-squared for testing is:  0.8486068742492197\n"
     ]
    }
   ],
   "source": [
    "## Print training & test scores for Random forest ##\n",
    "\n",
    "print('The r-squared for training is: ', r2_score(y_train, y_train_pred_rf))\n",
    "print('The r-squared for testing is: ', r2_score(y_test, y_test_pred_rf))"
   ]
  },
  {
   "cell_type": "code",
   "execution_count": 1342,
   "metadata": {},
   "outputs": [
    {
     "name": "stdout",
     "output_type": "stream",
     "text": [
      "The RMSE for training is :  56868.11065899553\n",
      "The RMSE for test is :  129659.75905679443\n"
     ]
    }
   ],
   "source": [
    "## Find mean squared error for Random forest ##\n",
    "\n",
    "print('The RMSE for training is : ', np.sqrt(mean_squared_error(y_train, y_train_pred_rf)))\n",
    "print('The RMSE for test is : ', np.sqrt(mean_squared_error(y_test, y_test_pred_rf)))"
   ]
  },
  {
   "cell_type": "code",
   "execution_count": 1343,
   "metadata": {},
   "outputs": [
    {
     "data": {
      "text/html": [
       "<div>\n",
       "<style scoped>\n",
       "    .dataframe tbody tr th:only-of-type {\n",
       "        vertical-align: middle;\n",
       "    }\n",
       "\n",
       "    .dataframe tbody tr th {\n",
       "        vertical-align: top;\n",
       "    }\n",
       "\n",
       "    .dataframe thead th {\n",
       "        text-align: right;\n",
       "    }\n",
       "</style>\n",
       "<table border=\"1\" class=\"dataframe\">\n",
       "  <thead>\n",
       "    <tr style=\"text-align: right;\">\n",
       "      <th></th>\n",
       "      <th>feature_name</th>\n",
       "      <th>importance</th>\n",
       "    </tr>\n",
       "  </thead>\n",
       "  <tbody>\n",
       "    <tr>\n",
       "      <th>9</th>\n",
       "      <td>LONGITUDE</td>\n",
       "      <td>0.354930</td>\n",
       "    </tr>\n",
       "    <tr>\n",
       "      <th>7</th>\n",
       "      <td>ZIPCODE</td>\n",
       "      <td>0.251181</td>\n",
       "    </tr>\n",
       "    <tr>\n",
       "      <th>3</th>\n",
       "      <td>GBA</td>\n",
       "      <td>0.126767</td>\n",
       "    </tr>\n",
       "    <tr>\n",
       "      <th>8</th>\n",
       "      <td>LATITUDE</td>\n",
       "      <td>0.092652</td>\n",
       "    </tr>\n",
       "    <tr>\n",
       "      <th>32</th>\n",
       "      <td>CNDTN_Average</td>\n",
       "      <td>0.033178</td>\n",
       "    </tr>\n",
       "  </tbody>\n",
       "</table>\n",
       "</div>"
      ],
      "text/plain": [
       "     feature_name  importance\n",
       "9       LONGITUDE    0.354930\n",
       "7         ZIPCODE    0.251181\n",
       "3             GBA    0.126767\n",
       "8        LATITUDE    0.092652\n",
       "32  CNDTN_Average    0.033178"
      ]
     },
     "execution_count": 1343,
     "metadata": {},
     "output_type": "execute_result"
    }
   ],
   "source": [
    "## Create dataframe with independent variables which carried most weight to price prediction ##\n",
    "\n",
    "feature_df = pd.DataFrame({\"feature_name\":X.columns.values,\"importance\":rf_model.feature_importances_}).sort_values(\"importance\", ascending=False)\n",
    "feature_df.head(5)\n"
   ]
  },
  {
   "cell_type": "code",
   "execution_count": 1344,
   "metadata": {},
   "outputs": [
    {
     "data": {
      "image/png": "[encoded data removed]",
      "text/plain": [
       "<Figure size 432x288 with 1 Axes>"
      ]
     },
     "metadata": {
      "needs_background": "light"
     },
     "output_type": "display_data"
    }
   ],
   "source": [
    "## Create waterfall chart\n",
    "\n",
    "a = [\"LONGITUDE\", \"ZIPCODE\", \"GBA\",\"LATITUDE\", \"CNDTN_Average\"]\n",
    "b = [0.32, 0.25, 0.13, 0.09, .03]\n",
    "plot = waterfall_chart.plot(a,b, Title= \"DC Housing Price Features\", y_lab= \"Predicted probability\", x_lab= \"Features\",\n",
    " net_label = \"Total Weighting\")\n",
    "plot.show()"
   ]
  },
  {
   "cell_type": "code",
   "execution_count": 1345,
   "metadata": {},
   "outputs": [
    {
     "data": {
      "text/plain": [
       "711225.3290827405"
      ]
     },
     "execution_count": 1345,
     "metadata": {},
     "output_type": "execute_result"
    }
   ],
   "source": [
    "### Model price prediction ##\n",
    "\n",
    "y.mean()"
   ]
  },
  {
   "cell_type": "code",
   "execution_count": 1346,
   "metadata": {},
   "outputs": [
    {
     "data": {
      "text/plain": [
       "161599.93503149072"
      ]
     },
     "execution_count": 1346,
     "metadata": {},
     "output_type": "execute_result"
    }
   ],
   "source": [
    "## Mean squared error of price prediction ##\n",
    "\n",
    "from sklearn.metrics import mean_squared_error\n",
    "import math\n",
    "math.sqrt(mean_squared_error(y_test,y_test_pred))"
   ]
  },
  {
   "cell_type": "code",
   "execution_count": 1347,
   "metadata": {},
   "outputs": [
    {
     "data": {
      "text/plain": [
       "<Figure size 7200x43416 with 0 Axes>"
      ]
     },
     "execution_count": 1347,
     "metadata": {},
     "output_type": "execute_result"
    },
    {
     "data": {
      "image/png": "[encoded data removed]",
      "text/plain": [
       "<Figure size 432x288 with 1 Axes>"
      ]
     },
     "metadata": {
      "needs_background": "light"
     },
     "output_type": "display_data"
    },
    {
     "data": {
      "text/plain": [
       "<Figure size 7200x43416 with 0 Axes>"
      ]
     },
     "metadata": {},
     "output_type": "display_data"
    }
   ],
   "source": [
    "## Create residual plot #\n",
    "\n",
    "plt.scatter(rf_model.predict(X_train), rf_model.predict(X_train) - y_train, c=\"blue\", label=\"Training Data\")\n",
    "plt.scatter(rf_model.predict(X_test), rf_model.predict(X_test) - y_test, c=\"orange\", label=\"Testing Data\")\n",
    "plt.legend()\n",
    "plt.hlines(y=0, xmin=y.min(), xmax=y.max())\n",
    "plt.title(\"Residual Plot\")\n",
    "\n",
    "plt.figure(figsize=(100,603))\n",
    "\n"
   ]
  },
  {
   "cell_type": "code",
   "execution_count": null,
   "metadata": {},
   "outputs": [],
   "source": []
  },
  {
   "cell_type": "code",
   "execution_count": null,
   "metadata": {},
   "outputs": [],
   "source": []
  }
 ],
 "metadata": {
  "kernelspec": {
   "display_name": "Python 3",
   "language": "python",
   "name": "python3"
  },
  "language_info": {
   "codemirror_mode": {
    "name": "ipython",
    "version": 3
   },
   "file_extension": ".py",
   "mimetype": "text/x-python",
   "name": "python",
   "nbconvert_exporter": "python",
   "pygments_lexer": "ipython3",
   "version": "3.7.1"
  },
  "varInspector": {
   "cols": {
    "lenName": 16,
    "lenType": 16,
    "lenVar": 40
   },
   "kernels_config": {
    "python": {
     "delete_cmd_postfix": "",
     "delete_cmd_prefix": "del ",
     "library": "var_list.py",
     "varRefreshCmd": "print(var_dic_list())"
    },
    "r": {
     "delete_cmd_postfix": ") ",
     "delete_cmd_prefix": "rm(",
     "library": "var_list.r",
     "varRefreshCmd": "cat(var_dic_list()) "
    }
   },
   "types_to_exclude": [
    "module",
    "function",
    "builtin_function_or_method",
    "instance",
    "_Feature"
   ],
   "window_display": false
  }
 },
 "nbformat": 4,
 "nbformat_minor": 2
}
